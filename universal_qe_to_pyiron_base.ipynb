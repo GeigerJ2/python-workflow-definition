{
 "cells": [
  {
   "cell_type": "code",
   "execution_count": null,
   "id": "4eb91f39-a8ea-4eb8-839f-076accfcf394",
   "metadata": {},
   "outputs": [],
   "source": [
    "from pyiron_base import Project"
   ]
  },
  {
   "cell_type": "code",
   "execution_count": null,
   "id": "8200fd07-13a3-49a8-892d-2a4d906fc778",
   "metadata": {},
   "outputs": [],
   "source": [
    "from python_workflow_definition.pyiron_base import (get_dict, get_list, group_edges, resort_total_lst, get_source_handles, get_delayed_object_dict)"
   ]
  },
  {
   "cell_type": "code",
   "execution_count": null,
   "id": "d694b477-d4f7-45a9-97a1-3a4b5a8ca4fb",
   "metadata": {},
   "outputs": [],
   "source": [
    "from quantum_espresso_workflow import calculate_qe, generate_structures, get_bulk_structure, plot_energy_volume_curve"
   ]
  },
  {
   "cell_type": "code",
   "execution_count": null,
   "id": "c9d48f4f-5593-43ad-9b98-e69bc74d36cc",
   "metadata": {},
   "outputs": [],
   "source": [
    "nodes_new_dict = {  # from jobflow\n",
    "    0: get_bulk_structure,\n",
    "    1: calculate_qe,\n",
    "    2: generate_structures,\n",
    "    3: calculate_qe,\n",
    "    4: calculate_qe,\n",
    "    5: calculate_qe,\n",
    "    6: calculate_qe,\n",
    "    7: calculate_qe,\n",
    "    8: plot_energy_volume_curve,\n",
    "    9: 'Al',\n",
    "    10: 4.05,\n",
    "    11: True,\n",
    "    12: 'mini',\n",
    "    13: get_dict,\n",
    "    14: {'Al': 'Al.pbe-n-kjpaw_psl.1.0.0.UPF'},\n",
    "    15: [3, 3, 3],\n",
    "    16: 'vc-relax',\n",
    "    17: 0.02,\n",
    "    18: [0.9, 0.95, 1.0, 1.05, 1.1],\n",
    "    19: 'strain_0',\n",
    "    20: get_dict,\n",
    "    21: 'scf',\n",
    "    22: 'strain_1',\n",
    "    23: get_dict,\n",
    "    24: 'strain_2',\n",
    "    25: get_dict,\n",
    "    26: 'strain_3',\n",
    "    27: get_dict,\n",
    "    28: 'strain_4',\n",
    "    29: get_dict,\n",
    "    30: get_list,\n",
    "    31: get_list,\n",
    "}"
   ]
  },
  {
   "cell_type": "code",
   "execution_count": null,
   "id": "31a2fec8-4d83-41c3-8dc3-5964e0a07732",
   "metadata": {},
   "outputs": [],
   "source": [
    "edges_new_lst = [\n",
    "    {'target': 0, 'targetHandle': 'name', 'source': 9, 'sourceHandle': None},\n",
    "    {'target': 0, 'targetHandle': 'a', 'source': 10, 'sourceHandle': None},\n",
    "    {'target': 0, 'targetHandle': 'cubic', 'source': 11, 'sourceHandle': None},\n",
    "    {'target': 1, 'targetHandle': 'working_directory', 'source': 12, 'sourceHandle': None},\n",
    "    {'target': 13, 'targetHandle': 'structure', 'source': 0, 'sourceHandle': None},\n",
    "    {'target': 13, 'targetHandle': 'pseudopotentials', 'source': 14, 'sourceHandle': None},\n",
    "    {'target': 13, 'targetHandle': 'kpts', 'source': 15, 'sourceHandle': None},\n",
    "    {'target': 13, 'targetHandle': 'calculation', 'source': 16, 'sourceHandle': None},\n",
    "    {'target': 13, 'targetHandle': 'smearing', 'source': 17, 'sourceHandle': None},\n",
    "    {'target': 1, 'targetHandle': 'input_dict', 'source': 13, 'sourceHandle': None},\n",
    "    {'target': 2, 'targetHandle': 'structure', 'source': 1, 'sourceHandle': 'structure'},\n",
    "    {'target': 2, 'targetHandle': 'strain_lst', 'source': 18, 'sourceHandle': None},\n",
    "    {'target': 3, 'targetHandle': 'working_directory', 'source': 19, 'sourceHandle': None},\n",
    "    {'target': 20, 'targetHandle': 'structure', 'source': 2, 'sourceHandle': '0'},\n",
    "    {'target': 20, 'targetHandle': 'pseudopotentials', 'source': 14, 'sourceHandle': None},\n",
    "    {'target': 20, 'targetHandle': 'kpts', 'source': 15, 'sourceHandle': None},\n",
    "    {'target': 20, 'targetHandle': 'calculation', 'source': 21, 'sourceHandle': None},\n",
    "    {'target': 20, 'targetHandle': 'smearing', 'source': 17, 'sourceHandle': None},\n",
    "    {'target': 3, 'targetHandle': 'input_dict', 'source': 20, 'sourceHandle': None},\n",
    "    {'target': 4, 'targetHandle': 'working_directory', 'source': 22, 'sourceHandle': None},\n",
    "    {'target': 23, 'targetHandle': 'structure', 'source': 2, 'sourceHandle': '1'},\n",
    "    {'target': 23, 'targetHandle': 'pseudopotentials', 'source': 14, 'sourceHandle': None},\n",
    "    {'target': 23, 'targetHandle': 'kpts', 'source': 15, 'sourceHandle': None},\n",
    "    {'target': 23, 'targetHandle': 'calculation', 'source': 21, 'sourceHandle': None},\n",
    "    {'target': 23, 'targetHandle': 'smearing', 'source': 17, 'sourceHandle': None},\n",
    "    {'target': 4, 'targetHandle': 'input_dict', 'source': 23, 'sourceHandle': None},\n",
    "    {'target': 5, 'targetHandle': 'working_directory', 'source': 24, 'sourceHandle': None},\n",
    "    {'target': 25, 'targetHandle': 'structure', 'source': 2, 'sourceHandle': '2'},\n",
    "    {'target': 25, 'targetHandle': 'pseudopotentials', 'source': 14, 'sourceHandle': None},\n",
    "    {'target': 25, 'targetHandle': 'kpts', 'source': 15, 'sourceHandle': None},\n",
    "    {'target': 25, 'targetHandle': 'calculation', 'source': 21, 'sourceHandle': None},\n",
    "    {'target': 25, 'targetHandle': 'smearing', 'source': 17, 'sourceHandle': None},\n",
    "    {'target': 5, 'targetHandle': 'input_dict', 'source': 25, 'sourceHandle': None},\n",
    "    {'target': 6, 'targetHandle': 'working_directory', 'source': 26, 'sourceHandle': None},\n",
    "    {'target': 27, 'targetHandle': 'structure', 'source': 2, 'sourceHandle': '3'},\n",
    "    {'target': 27, 'targetHandle': 'pseudopotentials', 'source': 14, 'sourceHandle': None},\n",
    "    {'target': 27, 'targetHandle': 'kpts', 'source': 15, 'sourceHandle': None},\n",
    "    {'target': 27, 'targetHandle': 'calculation', 'source': 21, 'sourceHandle': None},\n",
    "    {'target': 27, 'targetHandle': 'smearing', 'source': 17, 'sourceHandle': None},\n",
    "    {'target': 6, 'targetHandle': 'input_dict', 'source': 27, 'sourceHandle': None},\n",
    "    {'target': 7, 'targetHandle': 'working_directory', 'source': 28, 'sourceHandle': None},\n",
    "    {'target': 29, 'targetHandle': 'structure', 'source': 2, 'sourceHandle': '4'},\n",
    "    {'target': 29, 'targetHandle': 'pseudopotentials', 'source': 14, 'sourceHandle': None},\n",
    "    {'target': 29, 'targetHandle': 'kpts', 'source': 15, 'sourceHandle': None},\n",
    "    {'target': 29, 'targetHandle': 'calculation', 'source': 21, 'sourceHandle': None},\n",
    "    {'target': 29, 'targetHandle': 'smearing', 'source': 17, 'sourceHandle': None},\n",
    "    {'target': 7, 'targetHandle': 'input_dict', 'source': 29, 'sourceHandle': None},\n",
    "    {'target': 30, 'targetHandle': \"0\", 'source': 3, 'sourceHandle': 'volume'},\n",
    "    {'target': 30, 'targetHandle': \"1\", 'source': 4, 'sourceHandle': 'volume'},\n",
    "    {'target': 30, 'targetHandle': \"2\", 'source': 5, 'sourceHandle': 'volume'},\n",
    "    {'target': 30, 'targetHandle': \"3\", 'source': 6, 'sourceHandle': 'volume'},\n",
    "    {'target': 30, 'targetHandle': \"4\", 'source': 7, 'sourceHandle': 'volume'},\n",
    "    {'target': 8, 'targetHandle': 'volume_lst', 'source': 30, 'sourceHandle': None},\n",
    "    {'target': 31, 'targetHandle': \"0\", 'source': 3, 'sourceHandle': 'energy'},\n",
    "    {'target': 31, 'targetHandle': \"1\", 'source': 4, 'sourceHandle': 'energy'},\n",
    "    {'target': 31, 'targetHandle': \"2\", 'source': 5, 'sourceHandle': 'energy'},\n",
    "    {'target': 31, 'targetHandle': \"3\", 'source': 6, 'sourceHandle': 'energy'},\n",
    "    {'target': 31, 'targetHandle': \"4\", 'source': 7, 'sourceHandle': 'energy'},\n",
    "    {'target': 8, 'targetHandle': 'energy_lst', 'source': 31, 'sourceHandle': None},\n",
    "]"
   ]
  },
  {
   "cell_type": "code",
   "execution_count": null,
   "id": "9907178d-8edd-478e-a6f7-f7ccd1c9441a",
   "metadata": {},
   "outputs": [],
   "source": [
    "pr = Project(\"test\")\n",
    "pr.remove_jobs(recursive=True, silently=True)"
   ]
  },
  {
   "cell_type": "code",
   "execution_count": null,
   "id": "063b5e00-5afd-4388-889b-bf6c2f0a7957",
   "metadata": {},
   "outputs": [],
   "source": [
    "total_lst = group_edges(edges_new_lst)\n",
    "total_new_lst = resort_total_lst(total_lst=total_lst, nodes_dict=nodes_new_dict)\n",
    "source_handle_dict = get_source_handles(edges_new_lst)\n",
    "delayed_object_dict = get_delayed_object_dict(\n",
    "    total_lst=total_new_lst, \n",
    "    nodes_dict=nodes_new_dict, \n",
    "    source_handle_dict=source_handle_dict, \n",
    "    pyiron_project=pr\n",
    ")\n",
    "delayed_object_dict[list(delayed_object_dict.keys())[-1]].draw()"
   ]
  },
  {
   "cell_type": "code",
   "execution_count": null,
   "id": "e2e2c44d-cb2e-4111-907e-c88ad671273b",
   "metadata": {},
   "outputs": [],
   "source": [
    "delayed_object_dict[list(delayed_object_dict.keys())[-1]].pull()"
   ]
  },
  {
   "cell_type": "code",
   "execution_count": null,
   "id": "12a6e779-766b-442a-a800-8e4e91bc95d3",
   "metadata": {},
   "outputs": [],
   "source": [
    "pr.job_table()"
   ]
  },
  {
   "cell_type": "code",
   "execution_count": null,
   "id": "e59d8cff-e204-4202-a204-692e4fb66997",
   "metadata": {},
   "outputs": [],
   "source": []
  }
 ],
 "metadata": {
  "kernelspec": {
   "display_name": "Python 3 (ipykernel)",
   "language": "python",
   "name": "python3"
  },
  "language_info": {
   "codemirror_mode": {
    "name": "ipython",
    "version": 3
   },
   "file_extension": ".py",
   "mimetype": "text/x-python",
   "name": "python",
   "nbconvert_exporter": "python",
   "pygments_lexer": "ipython3",
   "version": "3.12.5"
  }
 },
 "nbformat": 4,
 "nbformat_minor": 5
}
